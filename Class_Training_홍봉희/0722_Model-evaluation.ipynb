{
 "cells": [
  {
   "cell_type": "markdown",
   "metadata": {},
   "source": [
    "###"
   ]
  },
  {
   "cell_type": "markdown",
   "metadata": {},
   "source": [
    "#### domain knowledge\n",
    "> 도메인 지식"
   ]
  },
  {
   "cell_type": "markdown",
   "metadata": {},
   "source": [
    "## 4.9 요약 및 정리\n",
    "\n",
    "> ML, DL 위한 데이터 변환 작업"
   ]
  },
  {
   "cell_type": "markdown",
   "metadata": {},
   "source": [
    "# 5장 모델 평가와 성능 향상"
   ]
  },
  {
   "cell_type": "markdown",
   "metadata": {},
   "source": [
    "> 모델 선택, 매개변수 선택 => 성능이 달라짐   \n",
    "(모델: 2장.지도학습, 3장.비지도학습) -> 군집 -> 주관적, 정서적"
   ]
  },
  {
   "cell_type": "markdown",
   "metadata": {},
   "source": [
    "+ 훈련, 테스트 세트로 나누는 이유? -> 새로운 데이터에 모델이 얼마나 잘 일반화되어 측정하는지"
   ]
  },
  {
   "cell_type": "markdown",
   "metadata": {},
   "source": [
    "## 5.1 교차 검증\n",
    "\n",
    "> k-fold cross validation -> Test Data를 k번 반복하여 교차 검증함"
   ]
  },
  {
   "cell_type": "markdown",
   "metadata": {},
   "source": [
    "### 5.1.3 계층별 k-겹 교차 검증과 그외 전략들\n",
    "\n",
    "> Stratified k-fold cross-validation"
   ]
  },
  {
   "cell_type": "markdown",
   "metadata": {},
   "source": [
    "+ LOOCV : (LeaveOneOut) - 각 반복에서 하나의 데이터 포인트를 선택해 테스트 세트로 사용\n",
    "+ 임의 분할 교차 검증\n",
    "+ 그룹별 교차 검증 : 훈련데이터가 아닌 다른 데이터로 학습하여 테스트 세트를 평가 할 수 있도록 한다.\n",
    "교차 검증 할 때 그룹 정보(샘플)을 추가하여 그룹 레이블을 기반으로 계산, 각 분할에서 한 그룸 전체가 훈련 세트 아니면 테스트 세트임"
   ]
  },
  {
   "cell_type": "markdown",
   "metadata": {},
   "source": [
    "## 5.2 그리드 서치"
   ]
  },
  {
   "cell_type": "markdown",
   "metadata": {},
   "source": [
    "> "
   ]
  },
  {
   "cell_type": "markdown",
   "metadata": {},
   "source": [
    "+ RBF(Radial Basis Function), Cernel SVM\n",
    "+ 매개변수 C(이상치), gamma(분산)"
   ]
  },
  {
   "cell_type": "markdown",
   "metadata": {},
   "source": [
    "+ kernel = 'linear' -> c를 사용\n",
    "+ kernel = 'RBF' -> c, gamma 를 사용"
   ]
  },
  {
   "cell_type": "markdown",
   "metadata": {},
   "source": [
    "#### 참고사이트\n",
    "\n",
    "+ [SVM](https://championprogram.tistory.com/282)\n",
    "+ "
   ]
  },
  {
   "cell_type": "markdown",
   "metadata": {},
   "source": [
    "## 5.3 평가 지표와 측정"
   ]
  },
  {
   "cell_type": "markdown",
   "metadata": {},
   "source": [
    "> 평가 지표 선택 : R^2 -> 전부가 아니다   \n",
    "정밀도(Precision), 재현율(Recall)"
   ]
  },
  {
   "cell_type": "markdown",
   "metadata": {},
   "source": [
    "### 5.3.2 이진 분류의 평가 지표\n",
    "\n",
    "+ 에러의 종류 : 정확도만으로 예측 성능 측정 (예측 정확도)부족\n",
    "+ ex) False Positive, False Negative\n",
    "+ 에러를 비용으로 환산, 예측 오류로 인한 금전적 손해를 측정한 값을 정확도 대신 사용\n",
    "+ 비즈니스 관점에서 어떤 모델을 사용할 지 판단 중요"
   ]
  },
  {
   "cell_type": "markdown",
   "metadata": {},
   "source": [
    "[오차행렬](https://velog.io/@sset2323/03-02.-%EC%98%A4%EC%B0%A8-%ED%96%89%EB%A0%AC-Confusion-Matrix)\n",
    "\n",
    "[다중 분류 오차행렬](https://ai-creator.tistory.com/579)"
   ]
  },
  {
   "cell_type": "markdown",
   "metadata": {},
   "source": []
  }
 ],
 "metadata": {
  "language_info": {
   "name": "python"
  }
 },
 "nbformat": 4,
 "nbformat_minor": 2
}
