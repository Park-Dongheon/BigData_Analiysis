{
 "cells": [
  {
   "cell_type": "markdown",
   "metadata": {},
   "source": [
    "# 확률적 경사하강법\n",
    "\n",
    "[확률적 경사하강법](https://mldlcvmjw.tistory.com/112)"
   ]
  },
  {
   "cell_type": "markdown",
   "metadata": {},
   "source": [
    "+ 경사하강법을 사용하여 함수 y= 5x**2 +4x + 7의 최소값을 찾기 위해서는, 함수의 기울기가 0이 되는 지점을 찾아야 합니다. \n",
    "+ 이 지점은 함수의 미분값이 0이 되는 곳입니다.\n",
    "+ 경사하강법의 기본적인 아이디어는 함수의 기울기를 따라 내려가면서 최소값을 찾는 것입니다. 구체적으로, 우리는 다음과 같은 단계를 따릅니다:\n",
    "\n",
    "1. 초기값 𝑥를 설정합니다.\n",
    "2. 함수의 미분값(기울기)을 계산합니다.\n",
    "3. 기울기의 반대 방향으로 일정한 비율만큼 x를 이동시킵니다.\n",
    "4. 기울기가 충분히 작아질 때까지(즉, 미분값이 0에 가까워질 때까지) 이 과정을 반복합니다.\n",
    "\n",
    "+ 먼저, 함수 y= 5x**2 +4x + 7의 미분을 구하면 \n",
    "+ dx/dy = 10x + 4가 됩니다.\n",
    "\n",
    "> 다음으로, 파이썬 코드로 경사하강법을 구현해보겠습니다:"
   ]
  },
  {
   "cell_type": "code",
   "execution_count": 2,
   "metadata": {},
   "outputs": [
    {
     "name": "stdout",
     "output_type": "stream",
     "text": [
      "기울기 0인 x 값: -0.39999029874859887\n",
      "이때의 y 값: 6.200000000470571\n"
     ]
    }
   ],
   "source": [
    "import numpy as np\n",
    "\n",
    "# 함수 정의\n",
    "def f(x):\n",
    "    return 5*x**2 + 4*x + 7\n",
    "\n",
    "# 함수의 미분 정의\n",
    "def df(x):\n",
    "    return 10*x + 4\n",
    "\n",
    "# 경사하강법 구현\n",
    "def gradient_descent(learning_rate=0.01, tolerance=1e-6, max_iterations=1000):\n",
    "    x = np.random.rand()  # 초기값 설정 (무작위 값)\n",
    "    for i in range(max_iterations):\n",
    "        gradient = df(x)\n",
    "        new_x = x - learning_rate * gradient\n",
    "        if abs(new_x - x) < tolerance:  # 변화가 충분히 작으면 종료\n",
    "            break\n",
    "        x = new_x\n",
    "    return x\n",
    "\n",
    "# 학습률과 반복 설정\n",
    "learning_rate = 0.01\n",
    "tolerance = 1e-6\n",
    "max_iterations = 1000\n",
    "\n",
    "# 최소값 찾기\n",
    "min_x = gradient_descent(learning_rate, tolerance, max_iterations)\n",
    "print(f\"기울기 0인 x 값: {min_x}\")\n",
    "print(f\"이때의 y 값: {f(min_x)}\")"
   ]
  },
  {
   "cell_type": "markdown",
   "metadata": {},
   "source": [
    "+ 이 코드는 다음과 같은 방식으로 동작합니다:\n",
    "\n",
    "1. 임의의 초기값 x를 설정합니다.\n",
    "2. 미분값(기울기)을 계산합니다.\n",
    "3. 기울기의 반대 방향으로 이동하여 x를 업데이트합니다.\n",
    "4. x의 변화가 매우 작아지면 반복을 종료합니다.\n",
    "\n",
    "+ 이 코드를 실행하면 함수 y= 5x**2 +4x + 7의 기울기가 0인 x 값을 찾을 수 있습니다."
   ]
  },
  {
   "cell_type": "markdown",
   "metadata": {},
   "source": [
    "`SGDClassifier`(Stochastic:확률적, Gradient:경사, Descent:하강)"
   ]
  },
  {
   "cell_type": "markdown",
   "metadata": {},
   "source": [
    "## 참고 사이트"
   ]
  },
  {
   "cell_type": "markdown",
   "metadata": {},
   "source": [
    "[경사하강법에서 손실함수 변화](https://trvoid.blogspot.com/2021/06/blog-post.html)"
   ]
  },
  {
   "cell_type": "markdown",
   "metadata": {},
   "source": [
    "[배치와 미니배치, 확률적 경사하강법](https://skyil.tistory.com/68)"
   ]
  },
  {
   "cell_type": "markdown",
   "metadata": {},
   "source": [
    "[딥러닝, 최적화 확률적 경사하강법](https://gooopy.tistory.com/69)"
   ]
  },
  {
   "cell_type": "markdown",
   "metadata": {},
   "source": [
    "[확률적 경사하강법](https://aodtns.tistory.com/52)"
   ]
  },
  {
   "cell_type": "markdown",
   "metadata": {},
   "source": [
    "# 나이브 베이즈 분류기"
   ]
  },
  {
   "cell_type": "markdown",
   "metadata": {},
   "source": [
    "## 참고사이트"
   ]
  },
  {
   "cell_type": "markdown",
   "metadata": {},
   "source": [
    "[나이브 베이즈 분류](https://m.blog.naver.com/unirone/222075417889)"
   ]
  },
  {
   "cell_type": "markdown",
   "metadata": {},
   "source": [
    "[나이브 베이즈 분류기1](https://wikidocs.net/22892)   \n",
    "[나이브 베이즈 분류기2](https://mole-starseeker.tistory.com/78)"
   ]
  },
  {
   "cell_type": "markdown",
   "metadata": {},
   "source": [
    "# 3. 비지도 학습과 데이터 전처리"
   ]
  },
  {
   "cell_type": "markdown",
   "metadata": {},
   "source": [
    "> `비지도 변환` -> `차원 축소`(고차원 -> 저차원:시각화)\n",
    "> 저차원에서 주성분을 찾는것(ex.텍스트문서:뉴스, 보고서, 찌라시 => 주제 도출)"
   ]
  },
  {
   "cell_type": "markdown",
   "metadata": {},
   "source": [
    "+ 군집 알고리즘 : 정량데이터(숫자), 이미지 데이터\n",
    "+ 비지도 학습 -> label 없음 -> 군집이 잘 되었는가? -> 정답 x\n",
    "+ 전처리(변환)"
   ]
  },
  {
   "cell_type": "markdown",
   "metadata": {},
   "source": [
    "## 데이터 전처리와 스케일 조정\n",
    "\n",
    "+ 데이터 스케일 : (Data Scale)\n",
    "+ 정규화 : (Nomalization) 0 ~ 1 사이로 값을 표현(ex. 온도, 키 등을 0 ~ 1 로 표현)"
   ]
  },
  {
   "cell_type": "markdown",
   "metadata": {},
   "source": [
    "## 차원 축소, 특성 추출, 매니폴드 학습\n",
    "\n",
    "+ 비지도 학습 : 사용이유 ? => \n",
    "  1. 차원 축속 -> 시각화 -> 데이터 파악\n",
    "  2. (ML)PCA : 고차원 -> 저차원 - 주성분 분해(decomposition) -> 시각화\n",
    "\n",
    "### 특성 추출\n",
    "\n",
    "+ eigenface\n",
    "+ eigenvector(고유벡터) : 선형변환이 일어나도 벡터의 크기가 변하지만 방향을 변하지 않고 고유한 벡터\n",
    "+ PCA 를 이용해 얼굴 이미지에서 특성을 추출하는 좋은 사례\n",
    "\n",
    "+ PCA의 화이트닝 [PCA Whitening](https://blog.naver.com/rupy400/221161245239)"
   ]
  },
  {
   "cell_type": "markdown",
   "metadata": {},
   "source": [
    "## NMF (음수 미포함 행렬 분해)"
   ]
  },
  {
   "cell_type": "markdown",
   "metadata": {},
   "source": [
    "### 참고 사이트\n",
    "\n",
    "[비음수 행렬 분석(Non-Negative Matrix Factorization)](https://d-craftshop.tistory.com/20)"
   ]
  },
  {
   "cell_type": "markdown",
   "metadata": {},
   "source": [
    "[머신러닝 - 차원 축소 (PCA, LDA, SVD, NMF)](https://blog.naver.com/paragonyun/222465847517)"
   ]
  },
  {
   "cell_type": "markdown",
   "metadata": {},
   "source": [
    "+ LDA(Linear Discriminant Analysis) : PCA로 축소된 축을 자세히 보시면 클래스와 상관 없이 마구잡이로 축소된 것을 확인하실 수 있습니다. 그러나 LDA로 축소된 축을 보시면 클래스가 잘 구분되게 축소\n",
    "\n"
   ]
  },
  {
   "cell_type": "markdown",
   "metadata": {},
   "source": [
    "+ SVD(Singular Value Decomposition)\n"
   ]
  },
  {
   "cell_type": "markdown",
   "metadata": {},
   "source": [
    "+ NMF(Non-Negative Matrix Factorization)"
   ]
  },
  {
   "cell_type": "markdown",
   "metadata": {},
   "source": [
    "## t-SNE를 이용한 매니폴드 학습"
   ]
  },
  {
   "cell_type": "markdown",
   "metadata": {},
   "source": [
    "### 참고 사이트\n",
    "\n",
    "[t-SNE 개념과 사용법](https://gaussian37.github.io/ml-concept-t_sne/)"
   ]
  },
  {
   "cell_type": "markdown",
   "metadata": {},
   "source": [
    "[차원축소 t-SNE](https://lets-start-data.tistory.com/entry/%EB%AA%A8%EB%8D%B8-%EC%95%8C%EA%B3%A0%EB%A6%AC%EC%A6%98-%EC%B0%A8%EC%9B%90-%EC%B6%95%EC%86%8C-MDS-Isomap-t-SNE-LDA)"
   ]
  },
  {
   "cell_type": "markdown",
   "metadata": {},
   "source": []
  }
 ],
 "metadata": {
  "kernelspec": {
   "display_name": "Python 3",
   "language": "python",
   "name": "python3"
  },
  "language_info": {
   "codemirror_mode": {
    "name": "ipython",
    "version": 3
   },
   "file_extension": ".py",
   "mimetype": "text/x-python",
   "name": "python",
   "nbconvert_exporter": "python",
   "pygments_lexer": "ipython3",
   "version": "3.9.13"
  }
 },
 "nbformat": 4,
 "nbformat_minor": 2
}
