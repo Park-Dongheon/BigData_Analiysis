{
 "cells": [
  {
   "cell_type": "markdown",
   "metadata": {},
   "source": [
    "# 3장 비지도 학습과 데이터 전처리"
   ]
  },
  {
   "cell_type": "markdown",
   "metadata": {},
   "source": [
    "##  t-SNE를 이용한 매니폴드 학습\n",
    "+ p.232"
   ]
  },
  {
   "cell_type": "markdown",
   "metadata": {},
   "source": [
    "> `t-distributed Stochastic Neighbor Embedding`\n",
    "> 딥러닝 모델에서 feature의 유사도를 파악하기 위해 시각화\n",
    "> t-SNE -> 딥러닝(파이토치)   \n",
    "> Mani-Fold 학습 : 시각화, 고차원 -> 저차원(ex.4, 5 차원 -> 2차원 축소)\n",
    "> t-SNE : 거리보전 - 고차원상 거리 -> 저차원상 거리로 표현\n",
    "> 특성이 평균에 가까우면 확률값이 1, 멀어질 수록 0으로 수렴\n",
    "> 결론 : 특성 값들의 거리가 짧을 수록 유사도가 높다=평균에 가깝다"
   ]
  },
  {
   "cell_type": "markdown",
   "metadata": {},
   "source": [
    "###"
   ]
  },
  {
   "cell_type": "markdown",
   "metadata": {},
   "source": []
  },
  {
   "cell_type": "markdown",
   "metadata": {},
   "source": [
    "### MDS(Multi-Dimensional Scaling)\n",
    "\n",
    "+ ex) 3차원 상의 두점의 거리를 투영한 2차원 상에서의 거리를 유지하는 것"
   ]
  },
  {
   "cell_type": "markdown",
   "metadata": {},
   "source": [
    "### ISOMAP\n",
    "\n",
    "+ 가까운 군집끼리만 거리를 보존"
   ]
  },
  {
   "cell_type": "markdown",
   "metadata": {},
   "source": [
    "### ENTROPY\n",
    "\n",
    "+ 확률이 클 경우 -> 특성이 큰 값이 1에 수렴함 -> 불확실성이 낮다"
   ]
  },
  {
   "cell_type": "markdown",
   "metadata": {},
   "source": [
    "### 쿨백-라이블러 발산(Kullback-Leibler divergence, KLD)"
   ]
  },
  {
   "cell_type": "markdown",
   "metadata": {},
   "source": []
  },
  {
   "cell_type": "markdown",
   "metadata": {},
   "source": [
    "### CROSSENTROPY"
   ]
  },
  {
   "cell_type": "markdown",
   "metadata": {},
   "source": [
    "### 참고사이트\n",
    "\n",
    "[차원축소 t-SNE](https://lets-start-data.tistory.com/entry/%EB%AA%A8%EB%8D%B8-%EC%95%8C%EA%B3%A0%EB%A6%AC%EC%A6%98-%EC%B0%A8%EC%9B%90-%EC%B6%95%EC%86%8C-MDS-Isomap-t-SNE-LDA)   \n",
    "\n",
    "[t-distributed Stochastic Neighbor Embedding](https://devhwi.tistory.com/20)\n",
    "\n",
    "[Youtube:t-SNE 시각화](https://www.youtube.com/results?search_query=PR-3+visualizing+Data+Using+t-SNE)\n",
    "\n",
    "[엔트로피(Entropy) 쿨백-라이블러 발산(Kullback–Leibler divergence, KLD)](https://velog.io/@minchoul2/%EC%97%94%ED%8A%B8%EB%A1%9C%ED%94%BC%EC%99%80-%EC%BF%A8%EB%B0%B1%EB%9D%BC%EC%9D%B4%EB%B8%94%EB%9F%AC%EB%B0%9C%EC%82%B0)"
   ]
  },
  {
   "cell_type": "markdown",
   "metadata": {},
   "source": [
    "# 4장 데이터 표현과 특성 공학"
   ]
  },
  {
   "cell_type": "markdown",
   "metadata": {},
   "source": [
    "> 특성의 종류 : 연속형 특성(숫자), 범주형 특성, 이산형 특성   \n",
    "> 데이터의 타입 : 텍스트 -> 숫자 (워드 임베딩)   \n",
    "> => 특성 공학 : 값을 변환"
   ]
  },
  {
   "cell_type": "markdown",
   "metadata": {},
   "source": [
    "## 범주형 변수"
   ]
  },
  {
   "cell_type": "markdown",
   "metadata": {},
   "source": [
    "### 원-핫-인코딩(가변수(Dummy Variable))\n",
    "\n",
    "+ "
   ]
  },
  {
   "cell_type": "markdown",
   "metadata": {},
   "source": [
    "### Binned 변환\n",
    "\n",
    "+ "
   ]
  },
  {
   "cell_type": "markdown",
   "metadata": {},
   "source": [
    "### Scale 변환\n",
    "\n",
    "+"
   ]
  },
  {
   "cell_type": "markdown",
   "metadata": {},
   "source": [
    "### 상호작용 특성 변환\n",
    "\n",
    "+"
   ]
  },
  {
   "cell_type": "markdown",
   "metadata": {},
   "source": [
    "### 다음 범주형 변수 변환된 데이터를 모델 학습 -> 예측"
   ]
  },
  {
   "cell_type": "markdown",
   "metadata": {},
   "source": [
    "## 선형회귀\n",
    "\n",
    "> 단순, 대용량 데이터 처리에 우수"
   ]
  },
  {
   "cell_type": "markdown",
   "metadata": {},
   "source": [
    "## 서포트 벡터 머신\n",
    "\n",
    "> 복잡, 대용량 데이터 처리에 느리다"
   ]
  },
  {
   "cell_type": "markdown",
   "metadata": {},
   "source": [
    "## 일변량 비선형 변환"
   ]
  },
  {
   "cell_type": "markdown",
   "metadata": {},
   "source": [
    "### 다항식 변환\n",
    "\n",
    "+ y = w0 + w1x + w2x**2 + w3x**3 + ... \n",
    "+ x(특성) : 일변량 변수\n",
    "+ log(), sin() ... : 비션형 변환"
   ]
  },
  {
   "cell_type": "markdown",
   "metadata": {},
   "source": [
    "## 특성 자동 선택"
   ]
  },
  {
   "cell_type": "markdown",
   "metadata": {},
   "source": [
    "### 일변량 통계\n",
    "\n",
    "+ 변수 - 특성 -> target (목표치) (Label)\n",
    "+ 특성과 taget의 관계 => 분산 분석\n",
    "+ 일변량 : one 변수 -> target, 다른 변수 -> F-classif\n",
    "+ F-classif : 크면 클래스별로(target) 평균이 다르다\n",
    "+ p-value(값) : 클래스(target)들의 평균이 같다는 가설 -> 이 가설을 지지하는 확률"
   ]
  },
  {
   "cell_type": "markdown",
   "metadata": {},
   "source": [
    "### 참고사이트\n",
    "\n",
    "[가설검정:p-value](https://bodi.tistory.com/entry/%EA%B0%80%EC%84%A4%EA%B2%80%EC%A0%95-P-value%EB%9E%80%EC%96%B4%EB%96%A4-%EC%82%AC%EA%B1%B4%EC%9D%B4-%EC%9A%B0%EC%97%B0%ED%9E%88-%EB%B0%9C%EC%83%9D%ED%95%A0-%ED%99%95%EB%A5%A0)\n",
    "\n",
    "[F-통계량 의미](https://angeloyeo.github.io/2020/02/29/ANOVA.html)"
   ]
  },
  {
   "cell_type": "code",
   "execution_count": null,
   "metadata": {},
   "outputs": [],
   "source": []
  },
  {
   "cell_type": "code",
   "execution_count": null,
   "metadata": {},
   "outputs": [],
   "source": []
  }
 ],
 "metadata": {
  "language_info": {
   "name": "python"
  }
 },
 "nbformat": 4,
 "nbformat_minor": 2
}
