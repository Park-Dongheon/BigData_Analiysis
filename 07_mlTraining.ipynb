{
 "cells": [
  {
   "cell_type": "markdown",
   "metadata": {},
   "source": [
    "### 머신러닝(정형 데이터)"
   ]
  },
  {
   "cell_type": "markdown",
   "metadata": {},
   "source": [
    "+ 이미지 -> 행렬"
   ]
  },
  {
   "cell_type": "markdown",
   "metadata": {},
   "source": [
    "+ \"텍스트\"\n",
    "+ 1. 자연어 != 인공어(Python, Java)\n",
    "    NLP => 확률공간 => 행렬\n",
    "+ 전처리 - 불필요 삭제, 불용어\n",
    "+ BOW => 문자 카운팅 => TF-idf = 조건부 확률 => Apple(3인칭 단복수)"
   ]
  },
  {
   "cell_type": "markdown",
   "metadata": {},
   "source": [
    "## 01. 모델 만들기"
   ]
  },
  {
   "cell_type": "markdown",
   "metadata": {},
   "source": [
    "  1. 데이터 전처리\n",
    "  2. 머신러닝 학습\n",
    "  3. 결과확인\n",
    "  4. 모델 직렬화(☆(객체) -> 이진파일)\n",
    "    ex) DB(SQL) -> 테이블(문자열로 구성)"
   ]
  },
  {
   "cell_type": "markdown",
   "metadata": {},
   "source": [
    "## 02. 서비스 설계\n",
    "  1. Input = 특성 변수(많으면 많을 수록 학습은 좋아지지만 서비스 할 수 없음)\n",
    "  2. Procession = \n",
    "    1. 데이터 전처리\n",
    "    2. 머신러닝 학습\n",
    "  3. Output = 확률"
   ]
  },
  {
   "cell_type": "markdown",
   "metadata": {},
   "source": [
    "## 03. 구현\n",
    "\n",
    "웹 : 사용자 -> UI(특성변수) ->(Https) 서비스 ->(RestAPI) 추론 서비스와 연동"
   ]
  },
  {
   "cell_type": "markdown",
   "metadata": {},
   "source": [
    "### 추론기\n",
    "\n",
    "+ 템플릿 엔진\n",
    "+ REST / API\n",
    "  - HTML + CSS, JS\n",
    "  - 문자열 <-\n",
    "  "
   ]
  },
  {
   "cell_type": "markdown",
   "metadata": {},
   "source": [
    "### 04. 구조\n",
    "\n",
    "+ model - pickle 파일\n",
    "+ static - \n",
    "+ templates - html\n",
    "+ app.py"
   ]
  },
  {
   "cell_type": "markdown",
   "metadata": {},
   "source": []
  }
 ],
 "metadata": {
  "language_info": {
   "name": "python"
  }
 },
 "nbformat": 4,
 "nbformat_minor": 2
}
