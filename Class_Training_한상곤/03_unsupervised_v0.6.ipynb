{
  "cells": [
    {
      "cell_type": "code",
      "execution_count": null,
      "metadata": {},
      "outputs": [],
      "source": [
        "# pip install finance-datareader"
      ]
    },
    {
      "cell_type": "code",
      "execution_count": null,
      "metadata": {},
      "outputs": [],
      "source": [
        "from preamble import *"
      ]
    },
    {
      "cell_type": "code",
      "execution_count": null,
      "metadata": {},
      "outputs": [],
      "source": [
        "from sklearn.datasets import fetch_lfw_people\n",
        "from sklearn.model_selection import train_test_split\n",
        "from sklearn.preprocessing import MinMaxScaler, StandardScaler\n",
        "from sklearn.decomposition import PCA, NMF"
      ]
    },
    {
      "cell_type": "code",
      "execution_count": null,
      "metadata": {},
      "outputs": [],
      "source": [
        "people = fetch_lfw_people(min_faces_per_person=20, resize=0.7)\n",
        "image_shape = people.images[0].shape\n",
        "fig, axes = plt.subplots(2, 5, figsize=(15, 8), subplot_kw={\"xticks\": (), \"yticks\": ()})\n",
        "for target, image, ax in zip(people.target, people.images, axes.ravel()):\n",
        "    ax.imshow(image)\n",
        "    ax.set_title(people.target_names[target])"
      ]
    },
    {
      "cell_type": "code",
      "execution_count": null,
      "metadata": {
        "id": "jj-8ucRZ_TgX",
        "scrolled": true
      },
      "outputs": [],
      "source": [
        "# np.bool은 1.20버전부터 deprecated됩니다. 대신 bool을 사용하세요.\n",
        "mask = np.zeros(people.target.shape, dtype=bool)\n",
        "for target in np.unique(people.target):\n",
        "    mask[np.where(people.target == target)[0][:50]] = 1\n",
        "\n",
        "X_people = people.data[mask]\n",
        "y_people = people.target[mask]\n",
        "\n",
        "# 0~255 사이의 흑백 이미지의 픽셀 값을 0~1 사이로 스케일 조정합니다.\n",
        "# (옮긴이) MinMaxScaler를 적용하는 것과 거의 동일합니다.\n",
        "X_people = X_people / 255.0"
      ]
    },
    {
      "cell_type": "markdown",
      "metadata": {
        "id": "hlQ207IX_TiB"
      },
      "source": [
        "## `k`-평균 군집"
      ]
    },
    {
      "cell_type": "code",
      "execution_count": null,
      "metadata": {
        "colab": {
          "base_uri": "https://localhost:8080/",
          "height": 674
        },
        "hide_input": false,
        "id": "zWN2fwrO_TiB",
        "outputId": "9567b6ef-ded8-499b-d916-4a0e90ec9761"
      },
      "outputs": [],
      "source": [
        "mglearn.plots.plot_kmeans_algorithm()"
      ]
    },
    {
      "cell_type": "code",
      "execution_count": null,
      "metadata": {
        "colab": {
          "base_uri": "https://localhost:8080/",
          "height": 406
        },
        "hide_input": false,
        "id": "7_lT10EQ_TiC",
        "outputId": "ad3a1e6e-7864-4855-9ff7-c942e686bff9"
      },
      "outputs": [],
      "source": [
        "mglearn.plots.plot_kmeans_boundaries()"
      ]
    },
    {
      "cell_type": "code",
      "execution_count": null,
      "metadata": {
        "colab": {
          "base_uri": "https://localhost:8080/",
          "height": 74
        },
        "id": "naWzSm1T_TiC",
        "outputId": "254ccc7c-550f-45fa-a325-e76c54bdce63"
      },
      "outputs": [],
      "source": [
        "from sklearn.datasets import make_blobs\n",
        "from sklearn.cluster import KMeans\n",
        "\n",
        "# 인위적으로 2차원 데이터를 생성합니다\n",
        "X, y = make_blobs(random_state=1)\n",
        "\n",
        "# 군집 모델을 만듭니다\n",
        "kmeans = KMeans(n_clusters=3)\n",
        "kmeans.fit(X)"
      ]
    },
    {
      "cell_type": "code",
      "execution_count": null,
      "metadata": {
        "colab": {
          "base_uri": "https://localhost:8080/"
        },
        "id": "AFBcX4-C_TiD",
        "outputId": "c318e471-5af1-48ca-b214-100a72033024"
      },
      "outputs": [],
      "source": [
        "print(kmeans.labels_)"
      ]
    },
    {
      "cell_type": "code",
      "execution_count": null,
      "metadata": {
        "colab": {
          "base_uri": "https://localhost:8080/"
        },
        "id": "z1jMd0g6_TiD",
        "outputId": "9b4401ab-dd2b-4347-8e41-420c02fb1254"
      },
      "outputs": [],
      "source": [
        "print(kmeans.predict(X))"
      ]
    },
    {
      "cell_type": "code",
      "execution_count": null,
      "metadata": {
        "colab": {
          "base_uri": "https://localhost:8080/",
          "height": 434
        },
        "id": "ZCLfQP3e_TiE",
        "outputId": "4f33658f-f27c-4999-d380-ebdfd2777f43"
      },
      "outputs": [],
      "source": [
        "mglearn.discrete_scatter(X[:, 0], X[:, 1], kmeans.labels_, markers=\"o\")\n",
        "mglearn.discrete_scatter(\n",
        "    kmeans.cluster_centers_[:, 0],\n",
        "    kmeans.cluster_centers_[:, 1],\n",
        "    [0, 1, 2],\n",
        "    markers=\"^\",\n",
        "    markeredgewidth=2,\n",
        ")\n",
        "plt.show()  # 책에는 없음"
      ]
    },
    {
      "cell_type": "code",
      "execution_count": null,
      "metadata": {
        "colab": {
          "base_uri": "https://localhost:8080/",
          "height": 449
        },
        "id": "PT5g1odE_TiL",
        "outputId": "af2e0b89-f706-4c90-a5b6-04c76c61b1c0"
      },
      "outputs": [],
      "source": [
        "fig, axes = plt.subplots(1, 2, figsize=(10, 5))\n",
        "\n",
        "# 두 개의 클러스터 중심을 사용합니다\n",
        "kmeans = KMeans(n_clusters=2)\n",
        "kmeans.fit(X)\n",
        "assignments = kmeans.labels_\n",
        "\n",
        "mglearn.discrete_scatter(X[:, 0], X[:, 1], assignments, ax=axes[0])\n",
        "\n",
        "# 다섯 개의 클러스터 중심을 사용합니다\n",
        "kmeans = KMeans(n_clusters=5)\n",
        "kmeans.fit(X)\n",
        "assignments = kmeans.labels_\n",
        "\n",
        "mglearn.discrete_scatter(X[:, 0], X[:, 1], assignments, ax=axes[1])\n",
        "plt.show()  # 책에는 없음"
      ]
    },
    {
      "cell_type": "markdown",
      "metadata": {
        "id": "Mt3X5kpO_TiL"
      },
      "source": [
        "#### k-평균 알고리즘이 실패하는 경우"
      ]
    },
    {
      "cell_type": "code",
      "execution_count": null,
      "metadata": {
        "colab": {
          "base_uri": "https://localhost:8080/",
          "height": 449
        },
        "id": "6G63TvRx_TiM",
        "outputId": "fdec2666-51e4-41de-a704-00e6e96168d7"
      },
      "outputs": [],
      "source": [
        "X_varied, y_varied = make_blobs(\n",
        "    n_samples=200, cluster_std=[1.0, 2.5, 0.5], random_state=170\n",
        ")\n",
        "\n",
        "\n",
        "y_pred = KMeans(n_clusters=3, random_state=0).fit_predict(X_varied)\n",
        "\n",
        "\n",
        "mglearn.discrete_scatter(X_varied[:, 0], X_varied[:, 1], y_pred)\n",
        "\n",
        "\n",
        "plt.legend([\"클러스터 0\", \"클러스터 1\", \"클러스터 2\"], loc=\"best\")\n",
        "\n",
        "\n",
        "plt.xlabel(\"특성 0\")\n",
        "\n",
        "\n",
        "plt.ylabel(\"특성 1\")\n",
        "\n",
        "\n",
        "plt.show()  # 책에는 없음"
      ]
    },
    {
      "cell_type": "code",
      "execution_count": null,
      "metadata": {
        "colab": {
          "base_uri": "https://localhost:8080/",
          "height": 449
        },
        "id": "a8TWIcS8_TiM",
        "outputId": "ac3b0bf3-652c-405a-ca62-1a2d4df7696a"
      },
      "outputs": [],
      "source": [
        "# 무작위로 클러스터 데이터 생성합니다\n",
        "X, y = make_blobs(random_state=170, n_samples=600)\n",
        "rng = np.random.RandomState(74)\n",
        "\n",
        "# 데이터가 길게 늘어지도록 변경합니다\n",
        "transformation = rng.normal(size=(2, 2))\n",
        "X = np.dot(X, transformation)\n",
        "\n",
        "# 세 개의 클러스터로 데이터에 KMeans 알고리즘을 적용합니다\n",
        "kmeans = KMeans(n_clusters=3)\n",
        "kmeans.fit(X)\n",
        "y_pred = kmeans.predict(X)\n",
        "\n",
        "# 클러스터 할당과 클러스터 중심을 나타냅니다\n",
        "mglearn.discrete_scatter(X[:, 0], X[:, 1], kmeans.labels_, markers=\"o\")\n",
        "mglearn.discrete_scatter(\n",
        "    kmeans.cluster_centers_[:, 0],\n",
        "    kmeans.cluster_centers_[:, 1],\n",
        "    [0, 1, 2],\n",
        "    markers=\"^\",\n",
        "    markeredgewidth=2,\n",
        ")\n",
        "plt.xlabel(\"특성 0\")\n",
        "plt.ylabel(\"특성 1\")\n",
        "plt.show()  # 책에는 없음"
      ]
    },
    {
      "cell_type": "code",
      "execution_count": null,
      "metadata": {
        "colab": {
          "base_uri": "https://localhost:8080/",
          "height": 466
        },
        "id": "-ixIAuC5_TiN",
        "outputId": "326ef751-9cf9-470a-b206-bd5a32a49f96"
      },
      "outputs": [],
      "source": [
        "# two_moons 데이터를 생성합니다(이번에는 노이즈를 조금만 넣습니다)\n",
        "from sklearn.datasets import make_moons\n",
        "\n",
        "X, y = make_moons(n_samples=200, noise=0.05, random_state=0)\n",
        "\n",
        "# 두 개의 클러스터로 데이터에 KMeans 알고리즘을 적용합니다\n",
        "kmeans = KMeans(n_clusters=2)\n",
        "kmeans.fit(X)\n",
        "y_pred = kmeans.predict(X)\n",
        "\n",
        "# 클러스터 할당과 클러스터 중심을 표시합니다\n",
        "plt.scatter(X[:, 0], X[:, 1], c=y_pred, cmap=mglearn.cm2, s=60, edgecolors=\"k\")\n",
        "plt.scatter(\n",
        "    kmeans.cluster_centers_[:, 0],\n",
        "    kmeans.cluster_centers_[:, 1],\n",
        "    marker=\"^\",\n",
        "    c=[mglearn.cm2(0), mglearn.cm2(1)],\n",
        "    s=100,\n",
        "    linewidth=2,\n",
        "    edgecolors=\"k\",\n",
        ")\n",
        "plt.xlabel(\"특성 0\")\n",
        "plt.ylabel(\"특성 1\")"
      ]
    },
    {
      "cell_type": "markdown",
      "metadata": {
        "id": "1sbLaa6n_TiO"
      },
      "source": [
        "#### 벡터 양자화 또는 분해 메소드로서의 k-평균"
      ]
    },
    {
      "cell_type": "code",
      "execution_count": null,
      "metadata": {
        "id": "06h7rWx2_TiP"
      },
      "outputs": [],
      "source": [
        "X_train, X_test, y_train, y_test = train_test_split(\n",
        "    X_people, y_people, stratify=y_people, random_state=42\n",
        ")\n",
        "nmf = NMF(n_components=100, init=\"nndsvd\", max_iter=1000, tol=1e-2, random_state=0)\n",
        "nmf.fit(X_train)\n",
        "\n",
        "pca = PCA(n_components=100, random_state=0)\n",
        "pca.fit(X_train)\n",
        "\n",
        "kmeans = KMeans(n_clusters=100, random_state=0)\n",
        "kmeans.fit(X_train)\n",
        "\n",
        "X_reconstructed_pca = pca.inverse_transform(pca.transform(X_test))\n",
        "X_reconstructed_kmeans = kmeans.cluster_centers_[kmeans.predict(X_test)]\n",
        "X_reconstructed_nmf = np.dot(nmf.transform(X_test), nmf.components_)"
      ]
    },
    {
      "cell_type": "code",
      "execution_count": null,
      "metadata": {
        "colab": {
          "base_uri": "https://localhost:8080/",
          "height": 1000
        },
        "id": "ZsMsLIbK_TiP",
        "outputId": "7b75d9cf-265c-42fa-ba67-58c86f9dcd37"
      },
      "outputs": [],
      "source": [
        "fig, axes = plt.subplots(3, 5, figsize=(8, 8), subplot_kw={\"xticks\": (), \"yticks\": ()})\n",
        "fig.suptitle(\"추출한 성분\")\n",
        "for ax, comp_kmeans, comp_pca, comp_nmf in zip(\n",
        "    axes.T, kmeans.cluster_centers_, pca.components_, nmf.components_\n",
        "):\n",
        "    ax[0].imshow(comp_kmeans.reshape(image_shape))\n",
        "    ax[1].imshow(comp_pca.reshape(image_shape), cmap=\"viridis\")\n",
        "    ax[2].imshow(comp_nmf.reshape(image_shape))\n",
        "\n",
        "axes[0, 0].set_ylabel(\"kmeans\")\n",
        "axes[1, 0].set_ylabel(\"pca\")\n",
        "axes[2, 0].set_ylabel(\"nmf\")\n",
        "\n",
        "fig, axes = plt.subplots(4, 5, subplot_kw={\"xticks\": (), \"yticks\": ()}, figsize=(8, 8))\n",
        "fig.suptitle(\"재구성\")\n",
        "for ax, orig, rec_kmeans, rec_pca, rec_nmf in zip(\n",
        "    axes.T, X_test, X_reconstructed_kmeans, X_reconstructed_pca, X_reconstructed_nmf\n",
        "):\n",
        "\n",
        "    ax[0].imshow(orig.reshape(image_shape))\n",
        "    ax[1].imshow(rec_kmeans.reshape(image_shape))\n",
        "    ax[2].imshow(rec_pca.reshape(image_shape))\n",
        "    ax[3].imshow(rec_nmf.reshape(image_shape))\n",
        "\n",
        "axes[0, 0].set_ylabel(\"원본\")\n",
        "axes[1, 0].set_ylabel(\"kmeans\")\n",
        "axes[2, 0].set_ylabel(\"pca\")\n",
        "axes[3, 0].set_ylabel(\"nmf\")\n",
        "plt.show()  # 책에는 없음"
      ]
    },
    {
      "cell_type": "code",
      "execution_count": null,
      "metadata": {
        "colab": {
          "base_uri": "https://localhost:8080/",
          "height": 570
        },
        "id": "uTYmFolT_TiP",
        "outputId": "0817e6bd-602f-4909-9ee7-a9b5492f633d"
      },
      "outputs": [],
      "source": [
        "X, y = make_moons(n_samples=200, noise=0.05, random_state=0)\n",
        "\n",
        "kmeans = KMeans(n_clusters=10, random_state=0)\n",
        "kmeans.fit(X)\n",
        "y_pred = kmeans.predict(X)\n",
        "\n",
        "plt.scatter(X[:, 0], X[:, 1], c=y_pred, s=60, cmap=\"Paired\", edgecolors=\"black\")\n",
        "plt.scatter(\n",
        "    kmeans.cluster_centers_[:, 0],\n",
        "    kmeans.cluster_centers_[:, 1],\n",
        "    s=60,\n",
        "    marker=\"^\",\n",
        "    c=range(kmeans.n_clusters),\n",
        "    linewidth=2,\n",
        "    cmap=\"Paired\",\n",
        "    edgecolors=\"black\",\n",
        ")\n",
        "plt.xlabel(\"특성 0\")\n",
        "plt.ylabel(\"특성 1\")\n",
        "print(\"클러스터 레이블:\\n\", y_pred)"
      ]
    },
    {
      "cell_type": "code",
      "execution_count": null,
      "metadata": {
        "colab": {
          "base_uri": "https://localhost:8080/"
        },
        "id": "3MFhOIpo_TiQ",
        "outputId": "305020df-54b1-4cde-d0de-e7bd65f0b7c3"
      },
      "outputs": [],
      "source": [
        "distance_features = kmeans.transform(X)\n",
        "print(\"클러스터 거리 데이터의 형태:\", distance_features.shape)\n",
        "print(\"클러스터 거리:\\n\", distance_features)"
      ]
    },
    {
      "cell_type": "markdown",
      "metadata": {
        "id": "lMq7ejhN_TiQ"
      },
      "source": [
        "#### 엘보우 방법"
      ]
    },
    {
      "cell_type": "code",
      "execution_count": null,
      "metadata": {
        "colab": {
          "base_uri": "https://localhost:8080/",
          "height": 449
        },
        "id": "ET4Aj1JK_TiQ",
        "outputId": "aee7a5f1-954c-4dd9-fea2-72f30034705b"
      },
      "outputs": [],
      "source": [
        "inertia = []\n",
        "for i in range(1, 11):\n",
        "    kmeans = KMeans(n_clusters=i, random_state=0)\n",
        "    kmeans.fit(X)\n",
        "    inertia.append(kmeans.inertia_)\n",
        "\n",
        "plt.plot(range(1, 11), inertia, marker=\"o\")\n",
        "plt.xlabel(\"클러스터 개수\")\n",
        "plt.ylabel(\"이너셔\")\n",
        "plt.show()"
      ]
    },
    {
      "cell_type": "markdown",
      "metadata": {
        "id": "2uRIkyv2_TiR"
      },
      "source": [
        "## 병합 군집"
      ]
    },
    {
      "cell_type": "code",
      "execution_count": null,
      "metadata": {
        "colab": {
          "base_uri": "https://localhost:8080/",
          "height": 448
        },
        "hide_input": false,
        "id": "ETTMZc7X_TiS",
        "outputId": "4fdc544a-1a9a-42da-d41c-2a6b6fda7c97"
      },
      "outputs": [],
      "source": [
        "mglearn.plots.plot_agglomerative_algorithm()"
      ]
    },
    {
      "cell_type": "code",
      "execution_count": null,
      "metadata": {
        "colab": {
          "base_uri": "https://localhost:8080/",
          "height": 470
        },
        "id": "1PmdfcCf_TiS",
        "outputId": "bf734a6d-4e5b-4051-c177-05c5c9fc28f9"
      },
      "outputs": [],
      "source": [
        "from sklearn.cluster import AgglomerativeClustering\n",
        "\n",
        "\n",
        "X, y = make_blobs(random_state=1)\n",
        "\n",
        "\n",
        "agg = AgglomerativeClustering(n_clusters=3)\n",
        "\n",
        "\n",
        "assignment = agg.fit_predict(X)\n",
        "\n",
        "\n",
        "mglearn.discrete_scatter(X[:, 0], X[:, 1], assignment)\n",
        "\n",
        "\n",
        "plt.legend([\"클러스터 0\", \"클러스터 1\", \"클러스터 2\"], loc=\"best\")\n",
        "\n",
        "\n",
        "plt.xlabel(\"특성 0\")\n",
        "\n",
        "\n",
        "plt.ylabel(\"특성 1\")"
      ]
    },
    {
      "cell_type": "markdown",
      "metadata": {
        "id": "iWBivRCN_TiT"
      },
      "source": [
        "#### 계층적 군집과 덴드로그램(dendrograms)"
      ]
    },
    {
      "cell_type": "code",
      "execution_count": null,
      "metadata": {
        "colab": {
          "base_uri": "https://localhost:8080/",
          "height": 406
        },
        "hide_input": false,
        "id": "KEajoUa9_TiX",
        "outputId": "dcc519ca-e50e-48cc-f279-f82a196c799d"
      },
      "outputs": [],
      "source": [
        "mglearn.plots.plot_agglomerative()"
      ]
    },
    {
      "cell_type": "code",
      "execution_count": null,
      "metadata": {
        "colab": {
          "base_uri": "https://localhost:8080/",
          "height": 453
        },
        "id": "J0hdD2cH_TiX",
        "outputId": "7953fc76-bcb1-4afe-d312-f124c5b4e628"
      },
      "outputs": [],
      "source": [
        "# SciPy에서 ward 군집 함수와 덴드로그램 함수를 임포트합니다\n",
        "from scipy.cluster.hierarchy import dendrogram, ward\n",
        "\n",
        "X, y = make_blobs(random_state=0, n_samples=12)\n",
        "# 데이터 배열 X 에 ward 함수를 적용합니다\n",
        "# SciPy의 ward 함수는 병합 군집을 수행할 때 생성된\n",
        "# 거리 정보가 담긴 배열을 리턴합니다\n",
        "linkage_array = ward(X)\n",
        "# 클러스터 간의 거리 정보가 담긴 linkage_array를 사용해 덴드로그램을 그립니다\n",
        "dendrogram(linkage_array)\n",
        "\n",
        "# 두 개와 세 개의 클러스터를 구분하는 커트라인을 표시합니다\n",
        "ax = plt.gca()\n",
        "bounds = ax.get_xbound()\n",
        "ax.plot(bounds, [7.25, 7.25], \"--\", c=\"k\")\n",
        "ax.plot(bounds, [4, 4], \"--\", c=\"k\")\n",
        "\n",
        "ax.text(bounds[1], 7.25, \" 두 개 클러스터\", va=\"center\", fontdict={\"size\": 15})\n",
        "ax.text(bounds[1], 4, \" 세 개 클러스터\", va=\"center\", fontdict={\"size\": 15})\n",
        "plt.xlabel(\"샘플 인덱스\")\n",
        "plt.ylabel(\"클러스터 거리\")\n",
        "plt.show()"
      ]
    },
    {
      "cell_type": "code",
      "execution_count": null,
      "metadata": {
        "colab": {
          "base_uri": "https://localhost:8080/",
          "height": 74
        },
        "id": "pDkLsRkI_TiY",
        "outputId": "a390d228-d616-4eb8-bfcd-dbfd4c8c21d5"
      },
      "outputs": [],
      "source": [
        "agg = AgglomerativeClustering(n_clusters=None, distance_threshold=0)\n",
        "agg.fit(X)"
      ]
    },
    {
      "cell_type": "code",
      "execution_count": null,
      "metadata": {
        "colab": {
          "base_uri": "https://localhost:8080/"
        },
        "id": "2pFte9Xm_TiY",
        "outputId": "e34c9d32-da95-4c07-bcff-58c5db6d6098"
      },
      "outputs": [],
      "source": [
        "print(agg.children_)"
      ]
    },
    {
      "cell_type": "code",
      "execution_count": null,
      "metadata": {
        "colab": {
          "base_uri": "https://localhost:8080/",
          "height": 453
        },
        "id": "TpG2EFE7_TiY",
        "outputId": "9c815fbe-a562-4643-e02b-d162093b0191"
      },
      "outputs": [],
      "source": [
        "counts = np.zeros(agg.children_.shape[0])\n",
        "n_samples = len(agg.labels_)\n",
        "for i, merge in enumerate(agg.children_):\n",
        "    current_count = 0\n",
        "    for child_idx in merge:\n",
        "        if child_idx < n_samples:\n",
        "            current_count += 1  # 리프 노드\n",
        "        else:\n",
        "            current_count += counts[child_idx - n_samples]\n",
        "    counts[i] = current_count\n",
        "\n",
        "linkage_matrix = np.column_stack([agg.children_, agg.distances_, counts])\n",
        "# 클러스터 간의 거리 정보가 담긴 linkage_matrix를 사용해 덴드로그램을 그립니다\n",
        "dendrogram(linkage_matrix)\n",
        "\n",
        "# 두 개와 세 개의 클러스터를 구분하는 커트라인을 표시합니다\n",
        "ax = plt.gca()\n",
        "bounds = ax.get_xbound()\n",
        "ax.plot(bounds, [7.25, 7.25], \"--\", c=\"k\")\n",
        "ax.plot(bounds, [4, 4], \"--\", c=\"k\")\n",
        "\n",
        "ax.text(bounds[1], 7.25, \" 두 개 클러스터\", va=\"center\", fontdict={\"size\": 15})\n",
        "ax.text(bounds[1], 4, \" 세 개 클러스터\", va=\"center\", fontdict={\"size\": 15})\n",
        "plt.xlabel(\"샘플 인덱스\")\n",
        "plt.ylabel(\"클러스터 거리\")\n",
        "plt.show()"
      ]
    },
    {
      "cell_type": "markdown",
      "metadata": {
        "id": "Km3caCnL_TiZ"
      },
      "source": [
        "## DBSCAN"
      ]
    },
    {
      "cell_type": "code",
      "execution_count": null,
      "metadata": {
        "colab": {
          "base_uri": "https://localhost:8080/"
        },
        "id": "tXnDQ-4-_Tia",
        "outputId": "9b81ada8-ae50-455f-ec9d-e0d504ea9f6f"
      },
      "outputs": [],
      "source": [
        "from sklearn.cluster import DBSCAN\n",
        "\n",
        "\n",
        "X, y = make_blobs(random_state=0, n_samples=12)\n",
        "\n",
        "\n",
        "dbscan = DBSCAN()\n",
        "\n",
        "\n",
        "clusters = dbscan.fit_predict(X)\n",
        "\n",
        "\n",
        "print(\"클러스터 레이블:\\n\", clusters)"
      ]
    },
    {
      "cell_type": "code",
      "execution_count": null,
      "metadata": {
        "colab": {
          "base_uri": "https://localhost:8080/",
          "height": 973
        },
        "id": "CmOXGMZa_Tib",
        "outputId": "2023ac97-6831-4a29-e7cd-ed6be22aff46"
      },
      "outputs": [],
      "source": [
        "mglearn.plots.plot_dbscan()"
      ]
    },
    {
      "cell_type": "code",
      "execution_count": null,
      "metadata": {
        "colab": {
          "base_uri": "https://localhost:8080/",
          "height": 449
        },
        "id": "yjzDC7oS_Tib",
        "outputId": "f09855c1-7fd4-4d7d-c681-eb97ff316317"
      },
      "outputs": [],
      "source": [
        "X, y = make_moons(n_samples=200, noise=0.05, random_state=0)\n",
        "\n",
        "# 평균이 0, 분산이 1이 되도록 데이터의 스케일을 조정합니다\n",
        "scaler = StandardScaler()\n",
        "scaler.fit(X)\n",
        "X_scaled = scaler.transform(X)\n",
        "\n",
        "dbscan = DBSCAN()\n",
        "clusters = dbscan.fit_predict(X_scaled)\n",
        "# 클러스터 할당을 표시합니다\n",
        "plt.scatter(\n",
        "    X_scaled[:, 0],\n",
        "    X_scaled[:, 1],\n",
        "    c=clusters,\n",
        "    cmap=mglearn.cm2,\n",
        "    s=60,\n",
        "    edgecolors=\"black\",\n",
        ")\n",
        "plt.xlabel(\"특성 0\")\n",
        "plt.ylabel(\"특성 1\")\n",
        "plt.show()  # 책에는 없음"
      ]
    },
    {
      "cell_type": "markdown",
      "metadata": {
        "id": "RXT9XJZk_Tib"
      },
      "source": [
        "## 군집 알고리즘의 비교와 평가\n",
        "### 타겟값으로 군집 평가하기"
      ]
    },
    {
      "cell_type": "code",
      "execution_count": null,
      "metadata": {
        "colab": {
          "base_uri": "https://localhost:8080/",
          "height": 254
        },
        "id": "VF7jU_vH_Tib",
        "outputId": "f30b0dfb-d2ce-4d62-9dc6-3c6d1198e6b4"
      },
      "outputs": [],
      "source": [
        "from sklearn.metrics.cluster import adjusted_rand_score\n",
        "\n",
        "\n",
        "X, y = make_moons(n_samples=200, noise=0.05, random_state=0)\n",
        "\n",
        "\n",
        "# 평균이 0, 분산이 1이 되도록 데이터의 스케일을 조정합니다\n",
        "\n",
        "\n",
        "scaler = StandardScaler()\n",
        "\n",
        "\n",
        "scaler.fit(X)\n",
        "\n",
        "\n",
        "X_scaled = scaler.transform(X)\n",
        "\n",
        "\n",
        "fig, axes = plt.subplots(1, 4, figsize=(15, 3), subplot_kw={\"xticks\": (), \"yticks\": ()})\n",
        "\n",
        "\n",
        "# 사용할 알고리즘 모델을 리스트로 만듭니다\n",
        "\n",
        "\n",
        "algorithms = [KMeans(n_clusters=2), AgglomerativeClustering(n_clusters=2), DBSCAN()]\n",
        "\n",
        "\n",
        "# 비교를 위해 무작위로 클러스터 할당을 합니다\n",
        "\n",
        "\n",
        "random_state = np.random.RandomState(seed=0)\n",
        "\n",
        "\n",
        "random_clusters = random_state.randint(low=0, high=2, size=len(X))\n",
        "\n",
        "\n",
        "# 무작위 할당한 클러스터를 그립니다\n",
        "\n",
        "\n",
        "axes[0].scatter(\n",
        "    X_scaled[:, 0],\n",
        "    X_scaled[:, 1],\n",
        "    c=random_clusters,\n",
        "    cmap=mglearn.cm3,\n",
        "    s=60,\n",
        "    edgecolors=\"black\",\n",
        ")\n",
        "\n",
        "\n",
        "axes[0].set_title(\n",
        "    \"무작위 할당 - ARI: {:.2f}\".format(adjusted_rand_score(y, random_clusters))\n",
        ")\n",
        "\n",
        "\n",
        "for ax, algorithm in zip(axes[1:], algorithms):\n",
        "\n",
        "    # 클러스터 할당과 클러스터 중심을 그립니다\n",
        "\n",
        "    clusters = algorithm.fit_predict(X_scaled)\n",
        "\n",
        "    ax.scatter(\n",
        "        X_scaled[:, 0],\n",
        "        X_scaled[:, 1],\n",
        "        c=clusters,\n",
        "        cmap=mglearn.cm3,\n",
        "        s=60,\n",
        "        edgecolors=\"black\",\n",
        "    )\n",
        "\n",
        "    ax.set_title(\n",
        "        \"{} - ARI: {:.2f}\".format(\n",
        "            algorithm.__class__.__name__, adjusted_rand_score(y, clusters)\n",
        "        )\n",
        "    )"
      ]
    },
    {
      "cell_type": "code",
      "execution_count": null,
      "metadata": {
        "colab": {
          "base_uri": "https://localhost:8080/"
        },
        "id": "JvinU1Wx_Tic",
        "outputId": "c707b3b9-184c-4d98-e47a-c3d98ef997c7"
      },
      "outputs": [],
      "source": [
        "from sklearn.metrics import accuracy_score\n",
        "\n",
        "# 포인트가 클러스터로 나뉜 두 가지 경우\n",
        "clusters1 = [0, 0, 1, 1, 0]\n",
        "clusters2 = [1, 1, 0, 0, 1]\n",
        "# 모든 레이블이 달라졌으므로 정확도는 0입니다\n",
        "print(\"정확도: {:.2f}\".format(accuracy_score(clusters1, clusters2)))\n",
        "# 같은 포인트가 클러스터에 모였으므로 ARI는 1입니다\n",
        "print(\"ARI: {:.2f}\".format(adjusted_rand_score(clusters1, clusters2)))"
      ]
    },
    {
      "cell_type": "markdown",
      "metadata": {
        "id": "sHZScSvZ_Tic"
      },
      "source": [
        "### 타겟값 없이 군집 평가하기"
      ]
    },
    {
      "cell_type": "code",
      "execution_count": null,
      "metadata": {
        "colab": {
          "base_uri": "https://localhost:8080/",
          "height": 254
        },
        "id": "KVrhiADl_Tic",
        "outputId": "307820c6-f9fb-4a6a-c1c6-e38127d8d2cd"
      },
      "outputs": [],
      "source": [
        "from sklearn.metrics.cluster import silhouette_score\n",
        "\n",
        "X, y = make_moons(n_samples=200, noise=0.05, random_state=0)\n",
        "\n",
        "# 평균이 0, 분산이 1이 되도록 데이터의 스케일을 조정합니다\n",
        "scaler = StandardScaler()\n",
        "scaler.fit(X)\n",
        "X_scaled = scaler.transform(X)\n",
        "\n",
        "fig, axes = plt.subplots(1, 4, figsize=(15, 3), subplot_kw={\"xticks\": (), \"yticks\": ()})\n",
        "\n",
        "# 비교를 위해 무작위로 클러스터 할당을 합니다\n",
        "random_state = np.random.RandomState(seed=0)\n",
        "random_clusters = random_state.randint(low=0, high=2, size=len(X))\n",
        "\n",
        "# 무작위 할당한 클러스터를 그립니다\n",
        "axes[0].scatter(\n",
        "    X_scaled[:, 0],\n",
        "    X_scaled[:, 1],\n",
        "    c=random_clusters,\n",
        "    cmap=mglearn.cm3,\n",
        "    s=60,\n",
        "    edgecolors=\"black\",\n",
        ")\n",
        "axes[0].set_title(\n",
        "    \"무작위 할당: {:.2f}\".format(silhouette_score(X_scaled, random_clusters))\n",
        ")\n",
        "\n",
        "algorithms = [KMeans(n_clusters=2), AgglomerativeClustering(n_clusters=2), DBSCAN()]\n",
        "\n",
        "for ax, algorithm in zip(axes[1:], algorithms):\n",
        "    clusters = algorithm.fit_predict(X_scaled)\n",
        "    # 클러스터 할당과 클러스터 중심을 그립니다\n",
        "    ax.scatter(\n",
        "        X_scaled[:, 0],\n",
        "        X_scaled[:, 1],\n",
        "        c=clusters,\n",
        "        cmap=mglearn.cm3,\n",
        "        s=60,\n",
        "        edgecolors=\"black\",\n",
        "    )\n",
        "    ax.set_title(\n",
        "        \"{} : {:.2f}\".format(\n",
        "            algorithm.__class__.__name__, silhouette_score(X_scaled, clusters)\n",
        "        )\n",
        "    )"
      ]
    },
    {
      "cell_type": "markdown",
      "metadata": {
        "id": "AsCadEEl_Tid"
      },
      "source": [
        "## 얼굴 데이터셋으로 군집 알고리즘 비교"
      ]
    },
    {
      "cell_type": "code",
      "execution_count": null,
      "metadata": {
        "id": "jGnAPGqw_Tid"
      },
      "outputs": [],
      "source": [
        "# LFW 데이터에서 고유얼굴을 찾은 다음 데이터를 변환합니다\n",
        "from sklearn.decomposition import PCA\n",
        "\n",
        "pca = PCA(n_components=100, whiten=True, random_state=0)\n",
        "X_pca = pca.fit_transform(X_people)"
      ]
    },
    {
      "cell_type": "markdown",
      "metadata": {
        "id": "8Xpl7DpI_Tid"
      },
      "source": [
        "#### DBSCAN으로 얼굴 데이터셋 분석"
      ]
    },
    {
      "cell_type": "code",
      "execution_count": null,
      "metadata": {
        "colab": {
          "base_uri": "https://localhost:8080/"
        },
        "id": "wfle43KW_Tie",
        "outputId": "28a58d13-51c8-4a8a-879b-8123d795ebd1"
      },
      "outputs": [],
      "source": [
        "# 기본 매개변수로 DBSCAN을 적용합니다\n",
        "dbscan = DBSCAN()\n",
        "labels = dbscan.fit_predict(X_pca)\n",
        "print(\"고유한 레이블:\", np.unique(labels))"
      ]
    },
    {
      "cell_type": "code",
      "execution_count": null,
      "metadata": {
        "colab": {
          "base_uri": "https://localhost:8080/"
        },
        "id": "SY3cM0b7_Tie",
        "outputId": "bdd7c1f8-3b4b-4d8e-9a1b-136152d8c311"
      },
      "outputs": [],
      "source": [
        "dbscan = DBSCAN(min_samples=3)\n",
        "labels = dbscan.fit_predict(X_pca)\n",
        "print(\"고유한 레이블:\", np.unique(labels))"
      ]
    },
    {
      "cell_type": "code",
      "execution_count": null,
      "metadata": {
        "colab": {
          "base_uri": "https://localhost:8080/"
        },
        "id": "gl5W-Cz6_Tie",
        "outputId": "f3e09745-bf08-4c2e-9159-35026856c2eb"
      },
      "outputs": [],
      "source": [
        "dbscan = DBSCAN(min_samples=3, eps=15)\n",
        "labels = dbscan.fit_predict(X_pca)\n",
        "print(\"고유한 레이블:\", np.unique(labels))"
      ]
    },
    {
      "cell_type": "code",
      "execution_count": null,
      "metadata": {
        "colab": {
          "base_uri": "https://localhost:8080/"
        },
        "id": "nVstlVb2_Tie",
        "outputId": "bbb5640c-a1ac-4ffa-d027-ef24b852ca08"
      },
      "outputs": [],
      "source": [
        "# 잡음 포인트와 클러스터에 속한 포인트 수를 셉니다.\n",
        "# bincount는 음수를 받을 수 없어서 labels에 1을 더했습니다.\n",
        "# 반환값의 첫 번째 원소는 잡음 포인트의 수입니다.\n",
        "print(\"클러스터별 포인트 수:\", np.bincount(labels + 1))"
      ]
    },
    {
      "cell_type": "code",
      "execution_count": null,
      "metadata": {
        "colab": {
          "base_uri": "https://localhost:8080/",
          "height": 345
        },
        "id": "V1_aPnF8_Tif",
        "outputId": "bf6ee48f-5406-4c20-b9e4-024834138919"
      },
      "outputs": [],
      "source": [
        "noise = X_people[labels == -1]\n",
        "\n",
        "fig, axes = plt.subplots(3, 9, subplot_kw={\"xticks\": (), \"yticks\": ()}, figsize=(12, 4))\n",
        "for image, ax in zip(noise, axes.ravel()):\n",
        "    ax.imshow(image.reshape(image_shape))"
      ]
    },
    {
      "cell_type": "code",
      "execution_count": null,
      "metadata": {
        "colab": {
          "base_uri": "https://localhost:8080/"
        },
        "id": "LihkcxiH_Tif",
        "outputId": "cf6b0d93-9245-412a-ba78-d769fe08bc84"
      },
      "outputs": [],
      "source": [
        "for eps in [1, 3, 5, 7, 9, 11, 13]:\n",
        "    print(\"\\neps=\", eps)\n",
        "    dbscan = DBSCAN(eps=eps, min_samples=3)\n",
        "    labels = dbscan.fit_predict(X_pca)\n",
        "    print(\"클러스터 수:\", len(np.unique(labels)))\n",
        "    print(\"클러스터 크기:\", np.bincount(labels + 1))"
      ]
    },
    {
      "cell_type": "code",
      "execution_count": null,
      "metadata": {
        "colab": {
          "base_uri": "https://localhost:8080/",
          "height": 769
        },
        "id": "CJ6KVuMS_Tig",
        "outputId": "15d9d74e-08b2-4596-cfee-1ee9e737d65d"
      },
      "outputs": [],
      "source": [
        "dbscan = DBSCAN(min_samples=3, eps=7)\n",
        "labels = dbscan.fit_predict(X_pca)\n",
        "\n",
        "for cluster in range(max(labels) + 1):\n",
        "    mask = labels == cluster\n",
        "    n_images = np.sum(mask)\n",
        "    fig, axes = plt.subplots(\n",
        "        1, 14, figsize=(14 * 1.5, 4), subplot_kw={\"xticks\": (), \"yticks\": ()}\n",
        "    )\n",
        "    i = 0\n",
        "    for image, label, ax in zip(X_people[mask], y_people[mask], axes):\n",
        "        ax.imshow(image.reshape(image_shape))\n",
        "        ax.set_title(people.target_names[label].split()[-1])\n",
        "        i += 1\n",
        "    for j in range(len(axes) - i):\n",
        "        axes[j + i].imshow(np.array([[1] * 65] * 87), vmin=0, vmax=1)\n",
        "        axes[j + i].axis(\"off\")"
      ]
    },
    {
      "cell_type": "markdown",
      "metadata": {
        "id": "kYQeYAe0_Tig"
      },
      "source": [
        "#### k-평균으로 얼굴 데이터셋 분석하기"
      ]
    },
    {
      "cell_type": "code",
      "execution_count": null,
      "metadata": {
        "colab": {
          "base_uri": "https://localhost:8080/"
        },
        "id": "cEYY03Cw_Tip",
        "outputId": "fb2c931c-c4f8-4d72-b1ca-7a656c97284f"
      },
      "outputs": [],
      "source": [
        "n_clusters = 10\n",
        "# k-평균으로 클러스터를 추출합니다\n",
        "km = KMeans(n_clusters=n_clusters, random_state=0)\n",
        "labels_km = km.fit_predict(X_pca)\n",
        "print(\"k-평균의 클러스터 크기:\", np.bincount(labels_km))"
      ]
    },
    {
      "cell_type": "code",
      "execution_count": null,
      "metadata": {
        "colab": {
          "base_uri": "https://localhost:8080/",
          "height": 345
        },
        "id": "c07AHpYS_Tip",
        "outputId": "2af11121-ba71-4a57-fcf0-8ca5032507e2"
      },
      "outputs": [],
      "source": [
        "fig, axes = plt.subplots(2, 5, subplot_kw={\"xticks\": (), \"yticks\": ()}, figsize=(12, 4))\n",
        "for center, ax in zip(km.cluster_centers_, axes.ravel()):\n",
        "    ax.imshow(pca.inverse_transform(center).reshape(image_shape))"
      ]
    },
    {
      "cell_type": "code",
      "execution_count": null,
      "metadata": {
        "colab": {
          "base_uri": "https://localhost:8080/",
          "height": 1000
        },
        "id": "x6SaQzha_Tiq",
        "outputId": "18b1e201-87d5-455a-b991-4262f02b7f6c"
      },
      "outputs": [],
      "source": [
        "mglearn.plots.plot_kmeans_faces(km, pca, X_pca, X_people, y_people, people.target_names)"
      ]
    },
    {
      "cell_type": "markdown",
      "metadata": {
        "id": "sLrlIsk-_Tiq"
      },
      "source": [
        "#### 병합 군집으로 얼굴 데이터셋 분석하기"
      ]
    },
    {
      "cell_type": "code",
      "execution_count": null,
      "metadata": {
        "colab": {
          "base_uri": "https://localhost:8080/"
        },
        "id": "bVpd9oRz_Tiq",
        "outputId": "ba68191b-1f2a-44ed-af97-701253974218"
      },
      "outputs": [],
      "source": [
        "# 병합 군집으로 클러스터를 추출합니다\n",
        "agglomerative = AgglomerativeClustering(n_clusters=10)\n",
        "labels_agg = agglomerative.fit_predict(X_pca)\n",
        "print(\"병합 군집의 클러스터 크기:\", np.bincount(labels_agg))"
      ]
    },
    {
      "cell_type": "code",
      "execution_count": null,
      "metadata": {
        "colab": {
          "base_uri": "https://localhost:8080/"
        },
        "id": "PrAgNrsC_Tiq",
        "outputId": "09ca6c6a-7972-4ef9-c066-da1508944184"
      },
      "outputs": [],
      "source": [
        "print(\"ARI: {:.2f}\".format(adjusted_rand_score(labels_agg, labels_km)))"
      ]
    },
    {
      "cell_type": "code",
      "execution_count": null,
      "metadata": {
        "colab": {
          "base_uri": "https://localhost:8080/",
          "height": 305
        },
        "id": "A6yAn7dI_Tir",
        "outputId": "d7cd78e7-53ff-4d5d-82c8-2bf2cc5110b6"
      },
      "outputs": [],
      "source": [
        "linkage_array = ward(X_pca)\n",
        "# 클러스터 사이의 거리가 담겨있는 linkage_array로 덴드로그램을 그립니다\n",
        "plt.figure(figsize=(20, 5))\n",
        "dendrogram(linkage_array, p=7, truncate_mode=\"level\", no_labels=True)\n",
        "plt.xlabel(\"샘플 번호\")\n",
        "plt.ylabel(\"클러스터 거리\")\n",
        "ax = plt.gca()\n",
        "bounds = ax.get_xbound()\n",
        "ax.plot(bounds, [36, 36], \"--\", c=\"k\")"
      ]
    },
    {
      "cell_type": "code",
      "execution_count": null,
      "metadata": {
        "colab": {
          "base_uri": "https://localhost:8080/",
          "height": 1000
        },
        "id": "Y1zm_WHx_Tir",
        "outputId": "6e9d2936-10ec-4798-c86b-dd543b191097",
        "scrolled": true
      },
      "outputs": [],
      "source": [
        "n_clusters = 10\n",
        "for cluster in range(n_clusters):\n",
        "    mask = labels_agg == cluster\n",
        "    fig, axes = plt.subplots(\n",
        "        1, 10, subplot_kw={\"xticks\": (), \"yticks\": ()}, figsize=(15, 8)\n",
        "    )\n",
        "    axes[0].set_ylabel(np.sum(mask))\n",
        "    for image, label, asdf, ax in zip(\n",
        "        X_people[mask], y_people[mask], labels_agg[mask], axes\n",
        "    ):\n",
        "        ax.imshow(image.reshape(image_shape))\n",
        "        ax.set_title(people.target_names[label].split()[-1], fontdict={\"fontsize\": 9})"
      ]
    },
    {
      "cell_type": "code",
      "execution_count": null,
      "metadata": {
        "colab": {
          "base_uri": "https://localhost:8080/",
          "height": 605
        },
        "id": "0YEBFIWc_Tir",
        "outputId": "0c5f7a1d-c355-4e8a-8928-6bbaef5a1013"
      },
      "outputs": [],
      "source": [
        "# 병합 군집으로 클러스터를 추출합니다\n",
        "agglomerative = AgglomerativeClustering(n_clusters=40)\n",
        "labels_agg = agglomerative.fit_predict(X_pca)\n",
        "print(\"병합 군집의 클러스터 크기:\", np.bincount(labels_agg))\n",
        "\n",
        "n_clusters = 40\n",
        "for cluster in [13, 16, 23, 38, 39]:  # 흥미로운 클러스터 몇개를 골랐습니다\n",
        "    mask = labels_agg == cluster\n",
        "    fig, axes = plt.subplots(\n",
        "        1, 15, subplot_kw={\"xticks\": (), \"yticks\": ()}, figsize=(15, 8)\n",
        "    )\n",
        "    cluster_size = np.sum(mask)\n",
        "    axes[0].set_ylabel(\"#{}: {}\".format(cluster, cluster_size))\n",
        "    for image, label, asdf, ax in zip(\n",
        "        X_people[mask], y_people[mask], labels_agg[mask], axes\n",
        "    ):\n",
        "        ax.imshow(image.reshape(image_shape))\n",
        "        ax.set_title(people.target_names[label].split()[-1], fontdict={\"fontsize\": 9})\n",
        "    for i in range(cluster_size, 15):\n",
        "        axes[i].set_visible(False)"
      ]
    },
    {
      "cell_type": "markdown",
      "metadata": {},
      "source": [
        "## 예제\n",
        "\n",
        "> 주식을 비롯해서 자산가치를 형성하는 몇몇 방법이 있다. 이 때, 투자 안정성을 위해서 분산투자를 하려고 한다. 우리가 주식을 투자 방법으로 결정하고, 나머지 포트폴리오를 구성하는 방법을 결정하세요. 단, 수익율이 가장 높은 포트폴리오를 구성해주세요.\n",
        "\n",
        "- https://github.com/FinanceData/FinanceDataReader"
      ]
    },
    {
      "cell_type": "code",
      "execution_count": null,
      "metadata": {},
      "outputs": [],
      "source": [
        "import FinanceDataReader as fdr"
      ]
    },
    {
      "cell_type": "markdown",
      "metadata": {},
      "source": [
        "### 데이터 수집"
      ]
    },
    {
      "cell_type": "code",
      "execution_count": null,
      "metadata": {},
      "outputs": [],
      "source": [
        "ks11 = fdr.DataReader(\"KS11\", \"2016-01-01\", \"2023-12-31\")\n",
        "ixic = fdr.DataReader(\"IXIC\", \"2016-01-01\", \"2023-12-31\")\n",
        "n225 = fdr.DataReader(\"N225\", \"2016-01-01\", \"2023-12-31\")\n",
        "usd_krw = fdr.DataReader(\"USD/KRW\", \"2016-01-01\", \"2023-12-31\")\n",
        "btc_krw = fdr.DataReader(\"BTC/KRW\", \"2016-01-01\", \"2023-12-31\")\n",
        "us10yt = fdr.DataReader(\"US10YT\", \"2016-01-01\", \"2023-12-31\")"
      ]
    },
    {
      "cell_type": "code",
      "execution_count": null,
      "metadata": {},
      "outputs": [],
      "source": [
        "ks11.head()"
      ]
    },
    {
      "cell_type": "code",
      "execution_count": null,
      "metadata": {},
      "outputs": [],
      "source": [
        "def my_fun(x):\n",
        "    return x.iloc[1] - x.iloc[0]\n",
        "\n",
        "\n",
        "ks11[\"Close\"].rolling(window=2).apply(my_fun)"
      ]
    },
    {
      "cell_type": "markdown",
      "metadata": {},
      "source": [
        "### 데이터 전처리"
      ]
    },
    {
      "cell_type": "code",
      "execution_count": null,
      "metadata": {},
      "outputs": [],
      "source": [
        "kospi = fdr.DataReader(\"KS11\", \"2016-01-01\", \"2023-12-31\")\n",
        "kospi[\"Change\"] = kospi[\"Change\"] * 100\n",
        "kospi = kospi.drop(\n",
        "    [\"Open\", \"High\", \"Low\", \"Close\", \"Volume\", \"UpDown\", \"Comp\", \"Amount\", \"MarCap\"],\n",
        "    axis=1,\n",
        ")\n",
        "kospi.rename(columns={\"Change\": \"KOSPI\"}, inplace=True)\n",
        "kospi.head()"
      ]
    },
    {
      "cell_type": "code",
      "execution_count": null,
      "metadata": {},
      "outputs": [],
      "source": [
        "nasdaq = fdr.DataReader(\"IXIC\", \"2016-01-01\", \"2023-12-31\")\n",
        "nasdaq[\"Change\"] = round(nasdaq[\"Adj Close\"].pct_change() * 100, 2)\n",
        "nasdaq = nasdaq.drop([\"High\", \"Low\", \"Open\", \"Close\", \"Volume\", \"Adj Close\"], axis=1)\n",
        "nasdaq.rename(columns={\"Change\": \"NASDAQ\"}, inplace=True)\n",
        "nasdaq"
      ]
    },
    {
      "cell_type": "code",
      "execution_count": null,
      "metadata": {},
      "outputs": [],
      "source": [
        "usa_treasury = fdr.DataReader(\"US10YT\", \"2016-01-01\", \"2023-12-31\")\n",
        "usa_treasury[\"Change\"] = round(usa_treasury[\"Adj Close\"].pct_change() * 100, 2)\n",
        "usa_treasury = usa_treasury.drop(\n",
        "    [\"High\", \"Low\", \"Open\", \"Close\", \"Volume\", \"Adj Close\"], axis=1\n",
        ")\n",
        "usa_treasury = usa_treasury.rename(columns={\"Change\": \"USA_TREASURY\"})\n",
        "usa_treasury"
      ]
    },
    {
      "cell_type": "code",
      "execution_count": null,
      "metadata": {},
      "outputs": [],
      "source": [
        "japan = fdr.DataReader(\"N225\", \"2001-06-08\", \"2024-01-23\")\n",
        "japan[\"Change\"] = round(japan[\"Adj Close\"].pct_change() * 100, 2)\n",
        "japan = japan.drop([\"High\", \"Low\", \"Open\", \"Close\", \"Volume\", \"Adj Close\"], axis=1)\n",
        "japan.rename(columns={\"Change\": \"Nikkei\"}, inplace=True)\n",
        "japan"
      ]
    },
    {
      "cell_type": "code",
      "execution_count": null,
      "metadata": {},
      "outputs": [],
      "source": [
        "usd_krw = fdr.DataReader(\"USD/KRW\", \"2016-01-01\", \"2023-12-31\")\n",
        "usd_krw[\"Change\"] = round(usd_krw[\"Adj Close\"].pct_change() * 100, 2)\n",
        "usd_krw = usd_krw.drop([\"High\", \"Low\", \"Open\", \"Close\", \"Volume\", \"Adj Close\"], axis=1)\n",
        "usd_krw = usd_krw.rename(columns={\"Change\": \"USD/KRW\"})\n",
        "usd_krw"
      ]
    },
    {
      "cell_type": "code",
      "execution_count": null,
      "metadata": {},
      "outputs": [],
      "source": [
        "btc_krw = fdr.DataReader(\"BTC/KRW\", \"2016-01-01\", \"2023-12-31\")\n",
        "btc_krw[\"Change\"] = round(btc_krw[\"Adj Close\"].pct_change() * 100, 2)\n",
        "btc_krw = btc_krw.drop([\"High\", \"Low\", \"Open\", \"Close\", \"Volume\", \"Adj Close\"], axis=1)\n",
        "btc_krw = btc_krw.rename(columns={\"Change\": \"BTC/KRW\"})\n",
        "btc_krw"
      ]
    },
    {
      "cell_type": "markdown",
      "metadata": {},
      "source": [
        "### 데이터 병합"
      ]
    },
    {
      "cell_type": "code",
      "execution_count": null,
      "metadata": {},
      "outputs": [],
      "source": [
        "result_data = pd.concat([kospi, nasdaq, usd_krw, usa_treasury, japan, btc_krw], axis=1)\n",
        "result_data.fillna(result_data.mean(), inplace=True)\n",
        "result_data = round(result_data, 2)"
      ]
    },
    {
      "cell_type": "code",
      "execution_count": null,
      "metadata": {},
      "outputs": [],
      "source": [
        "result_data.to_csv(\"kospi_result_data.csv\")"
      ]
    },
    {
      "cell_type": "code",
      "execution_count": null,
      "metadata": {},
      "outputs": [],
      "source": [
        "result_data.info()"
      ]
    }
  ],
  "metadata": {
    "colab": {
      "provenance": []
    },
    "environment": {
      "kernel": "python3",
      "name": "common-cpu.m102",
      "type": "gcloud",
      "uri": "gcr.io/deeplearning-platform-release/base-cpu:m102"
    },
    "kernelspec": {
      "display_name": "Python 3",
      "language": "python",
      "name": "python3"
    },
    "language_info": {
      "codemirror_mode": {
        "name": "ipython",
        "version": 3
      },
      "file_extension": ".py",
      "mimetype": "text/x-python",
      "name": "python",
      "nbconvert_exporter": "python",
      "pygments_lexer": "ipython3",
      "version": "3.9.13"
    }
  },
  "nbformat": 4,
  "nbformat_minor": 0
}
